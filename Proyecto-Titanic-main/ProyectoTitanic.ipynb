{
 "cells": [
  {
   "cell_type": "markdown",
   "id": "571edd1d-c438-4447-97a6-afebc68cfddb",
   "metadata": {
    "tags": []
   },
   "source": [
    "# Explorando el Titanic a través del Análisis de Datos\n",
    "\n",
    "El análisis de datos es una disciplina que implica la exploración, limpieza y modelado de información para revelar patrones y tendencias. A través de herramientas estadísticas y visuales, buscamos extraer conocimientos significativos que respalden decisiones informadas en diversos ámbitos.\n",
    "\n",
    "## Herramientas Visuales: Gráficos y Tablas\n",
    "\n",
    "En este viaje de descubrimiento, nos apoyaremos en gráficos y tablas como herramientas cruciales. Estos elementos visuales no solo hacen que los datos sean comprensibles, sino que también permiten identificar patrones visuales y comunicar hallazgos de manera efectiva. En la travesía del Titanic, estos recursos nos ayudarán a contar la historia detrás de los números.\n",
    "\n",
    "## Presentando el Proyecto\n",
    "\n",
    "En este proyecto, utilizaremos dos librerías fundamentales:\n",
    "\n",
    "- **Pandas:** Facilitará la manipulación y análisis de datos tabulares.\n",
    "- **Seaborn:** Brindará la capacidad de crear visualizaciones impactantes.\n",
    "\n",
    "A través de estas herramientas, exploraremos el dataset del Titanic, desentrañando misterios y respondiendo preguntas clave sobre los factores que influyeron en la supervivencia durante este evento histórico.\n"
   ]
  },
  {
   "cell_type": "markdown",
   "id": "0fb06270-cb83-4d59-bd2f-0f69fc2d52e9",
   "metadata": {},
   "source": [
    "#Instalamos librerias e importamos base de datos"
   ]
  },
  {
   "cell_type": "code",
   "execution_count": 149,
   "id": "196fddab-ba80-407f-a1c8-755e2e624eec",
   "metadata": {
    "tags": []
   },
   "outputs": [],
   "source": [
    "import pandas as pd\n",
    "\n",
    "import numpy as np\n",
    "import seaborn as sns\n",
    "import warnings\n",
    "warnings.filterwarnings(\"ignore\", message=\"The figure layout has changed to tight\")"
   ]
  },
  {
   "cell_type": "markdown",
   "id": "f3f0e16e-0d80-44f6-929a-7b45b0f0914a",
   "metadata": {
    "tags": []
   },
   "source": [
    "#### Detalle de Contenido del Columnas del Dataset\n",
    "\n",
    "*TITANIC Dataset*\n",
    "* *Pclass* Clase del pasajero (1 = 1st; 2 = 2nd; 3 = 3rd)\n",
    "* *Survived* Si el pasajero sobrevivió o no (0 = No; 1 = Si)\n",
    "* *Name:* Nombre\n",
    "* *Sex:* Sexo\n",
    "* *Age:* Edad\n",
    "* *Sibsp:* Número de hermanos / cónyuges a bordo\n",
    "* *Parch:* Número de padres / niños a bordo\n",
    "* *Ticket:* Numero de Ticket \n",
    "* *Fare:* Tarifa de pasajero (libra esterlina)\n",
    "* *Cabin:* Cabina\n",
    "* *Embarked:* Puerto de embarque (C = Cherbourg; Q = Queenstown; S = Southampton)"
   ]
  },
  {
   "cell_type": "markdown",
   "id": "6e6794f6-d050-43db-9e12-b2be44431f40",
   "metadata": {},
   "source": [
    "-Mostramos los primeros 5 elementos de la tabla, tomados en cuenta por el Id de los pasajeros"
   ]
  },
  {
   "cell_type": "code",
   "execution_count": 150,
   "id": "380de081-b2c2-4b11-a459-494203629c4f",
   "metadata": {
    "tags": []
   },
   "outputs": [
    {
     "data": {
      "text/html": [
       "<div>\n",
       "<style scoped>\n",
       "    .dataframe tbody tr th:only-of-type {\n",
       "        vertical-align: middle;\n",
       "    }\n",
       "\n",
       "    .dataframe tbody tr th {\n",
       "        vertical-align: top;\n",
       "    }\n",
       "\n",
       "    .dataframe thead th {\n",
       "        text-align: right;\n",
       "    }\n",
       "</style>\n",
       "<table border=\"1\" class=\"dataframe\">\n",
       "  <thead>\n",
       "    <tr style=\"text-align: right;\">\n",
       "      <th></th>\n",
       "      <th>Survived</th>\n",
       "      <th>Pclass</th>\n",
       "      <th>Name</th>\n",
       "      <th>Sex</th>\n",
       "      <th>Age</th>\n",
       "      <th>SibSp</th>\n",
       "      <th>Parch</th>\n",
       "      <th>Ticket</th>\n",
       "      <th>Fare</th>\n",
       "      <th>Cabin</th>\n",
       "      <th>Embarked</th>\n",
       "    </tr>\n",
       "    <tr>\n",
       "      <th>PassengerId</th>\n",
       "      <th></th>\n",
       "      <th></th>\n",
       "      <th></th>\n",
       "      <th></th>\n",
       "      <th></th>\n",
       "      <th></th>\n",
       "      <th></th>\n",
       "      <th></th>\n",
       "      <th></th>\n",
       "      <th></th>\n",
       "      <th></th>\n",
       "    </tr>\n",
       "  </thead>\n",
       "  <tbody>\n",
       "    <tr>\n",
       "      <th>1</th>\n",
       "      <td>0</td>\n",
       "      <td>3</td>\n",
       "      <td>Braund, Mr. Owen Harris</td>\n",
       "      <td>male</td>\n",
       "      <td>22.0</td>\n",
       "      <td>1</td>\n",
       "      <td>0</td>\n",
       "      <td>A/5 21171</td>\n",
       "      <td>7.2500</td>\n",
       "      <td>NaN</td>\n",
       "      <td>S</td>\n",
       "    </tr>\n",
       "    <tr>\n",
       "      <th>2</th>\n",
       "      <td>1</td>\n",
       "      <td>1</td>\n",
       "      <td>Cumings, Mrs. John Bradley (Florence Briggs Th...</td>\n",
       "      <td>female</td>\n",
       "      <td>38.0</td>\n",
       "      <td>1</td>\n",
       "      <td>0</td>\n",
       "      <td>PC 17599</td>\n",
       "      <td>71.2833</td>\n",
       "      <td>C85</td>\n",
       "      <td>C</td>\n",
       "    </tr>\n",
       "    <tr>\n",
       "      <th>3</th>\n",
       "      <td>1</td>\n",
       "      <td>3</td>\n",
       "      <td>Heikkinen, Miss. Laina</td>\n",
       "      <td>female</td>\n",
       "      <td>26.0</td>\n",
       "      <td>0</td>\n",
       "      <td>0</td>\n",
       "      <td>STON/O2. 3101282</td>\n",
       "      <td>7.9250</td>\n",
       "      <td>NaN</td>\n",
       "      <td>S</td>\n",
       "    </tr>\n",
       "    <tr>\n",
       "      <th>4</th>\n",
       "      <td>1</td>\n",
       "      <td>1</td>\n",
       "      <td>Futrelle, Mrs. Jacques Heath (Lily May Peel)</td>\n",
       "      <td>female</td>\n",
       "      <td>35.0</td>\n",
       "      <td>1</td>\n",
       "      <td>0</td>\n",
       "      <td>113803</td>\n",
       "      <td>53.1000</td>\n",
       "      <td>C123</td>\n",
       "      <td>S</td>\n",
       "    </tr>\n",
       "    <tr>\n",
       "      <th>5</th>\n",
       "      <td>0</td>\n",
       "      <td>3</td>\n",
       "      <td>Allen, Mr. William Henry</td>\n",
       "      <td>male</td>\n",
       "      <td>35.0</td>\n",
       "      <td>0</td>\n",
       "      <td>0</td>\n",
       "      <td>373450</td>\n",
       "      <td>8.0500</td>\n",
       "      <td>NaN</td>\n",
       "      <td>S</td>\n",
       "    </tr>\n",
       "  </tbody>\n",
       "</table>\n",
       "</div>"
      ],
      "text/plain": [
       "             Survived  Pclass  \\\n",
       "PassengerId                     \n",
       "1                   0       3   \n",
       "2                   1       1   \n",
       "3                   1       3   \n",
       "4                   1       1   \n",
       "5                   0       3   \n",
       "\n",
       "                                                          Name     Sex   Age  \\\n",
       "PassengerId                                                                    \n",
       "1                                      Braund, Mr. Owen Harris    male  22.0   \n",
       "2            Cumings, Mrs. John Bradley (Florence Briggs Th...  female  38.0   \n",
       "3                                       Heikkinen, Miss. Laina  female  26.0   \n",
       "4                 Futrelle, Mrs. Jacques Heath (Lily May Peel)  female  35.0   \n",
       "5                                     Allen, Mr. William Henry    male  35.0   \n",
       "\n",
       "             SibSp  Parch            Ticket     Fare Cabin Embarked  \n",
       "PassengerId                                                          \n",
       "1                1      0         A/5 21171   7.2500   NaN        S  \n",
       "2                1      0          PC 17599  71.2833   C85        C  \n",
       "3                0      0  STON/O2. 3101282   7.9250   NaN        S  \n",
       "4                1      0            113803  53.1000  C123        S  \n",
       "5                0      0            373450   8.0500   NaN        S  "
      ]
     },
     "execution_count": 150,
     "metadata": {},
     "output_type": "execute_result"
    }
   ],
   "source": [
    "df = pd.read_csv('titanic.csv', index_col = 'PassengerId')\n",
    "df.head()"
   ]
  },
  {
   "cell_type": "markdown",
   "id": "b30cf7f2-38a6-4d30-88ca-5c10434df875",
   "metadata": {},
   "source": [
    "#### Obtenemos la información de nuestra tabla para analizar sus datos"
   ]
  },
  {
   "cell_type": "code",
   "execution_count": 151,
   "id": "38ea2b3c-5300-487f-b5a8-7b334693a9f4",
   "metadata": {
    "tags": []
   },
   "outputs": [
    {
     "name": "stdout",
     "output_type": "stream",
     "text": [
      "<class 'pandas.core.frame.DataFrame'>\n",
      "Index: 891 entries, 1 to 891\n",
      "Data columns (total 11 columns):\n",
      " #   Column    Non-Null Count  Dtype  \n",
      "---  ------    --------------  -----  \n",
      " 0   Survived  891 non-null    int64  \n",
      " 1   Pclass    891 non-null    int64  \n",
      " 2   Name      891 non-null    object \n",
      " 3   Sex       891 non-null    object \n",
      " 4   Age       714 non-null    float64\n",
      " 5   SibSp     891 non-null    int64  \n",
      " 6   Parch     891 non-null    int64  \n",
      " 7   Ticket    891 non-null    object \n",
      " 8   Fare      891 non-null    float64\n",
      " 9   Cabin     204 non-null    object \n",
      " 10  Embarked  889 non-null    object \n",
      "dtypes: float64(2), int64(4), object(5)\n",
      "memory usage: 83.5+ KB\n"
     ]
    }
   ],
   "source": [
    "df.info()"
   ]
  },
  {
   "cell_type": "markdown",
   "id": "fa78ae23-e549-49f8-adba-a16fcef885e0",
   "metadata": {},
   "source": [
    "#### Analizamos:\n",
    "- Datos nulos(864): Cabin(687) y Age(177)\n",
    "- object(5): Name, Sex, Ticket, Cabin, Embarked \n",
    "- int(4): Survived, Pclass,SibSp,Parch\n",
    "- float64(2): Age, Fare"
   ]
  },
  {
   "cell_type": "markdown",
   "id": "0aa053c2-d4b0-4855-b0c3-3b80965afd2b",
   "metadata": {},
   "source": [
    "#### Utilizamos la función describe para Analizar la base de datos"
   ]
  },
  {
   "cell_type": "code",
   "execution_count": 152,
   "id": "270fcb74-82ee-4842-a25e-a6f0f73f9649",
   "metadata": {
    "tags": []
   },
   "outputs": [
    {
     "data": {
      "text/html": [
       "<div>\n",
       "<style scoped>\n",
       "    .dataframe tbody tr th:only-of-type {\n",
       "        vertical-align: middle;\n",
       "    }\n",
       "\n",
       "    .dataframe tbody tr th {\n",
       "        vertical-align: top;\n",
       "    }\n",
       "\n",
       "    .dataframe thead th {\n",
       "        text-align: right;\n",
       "    }\n",
       "</style>\n",
       "<table border=\"1\" class=\"dataframe\">\n",
       "  <thead>\n",
       "    <tr style=\"text-align: right;\">\n",
       "      <th></th>\n",
       "      <th>Survived</th>\n",
       "      <th>Pclass</th>\n",
       "      <th>SibSp</th>\n",
       "      <th>Parch</th>\n",
       "      <th>Age</th>\n",
       "      <th>Fare</th>\n",
       "    </tr>\n",
       "  </thead>\n",
       "  <tbody>\n",
       "    <tr>\n",
       "      <th>count</th>\n",
       "      <td>891.000000</td>\n",
       "      <td>891.000000</td>\n",
       "      <td>891.000000</td>\n",
       "      <td>891.000000</td>\n",
       "      <td>714.000000</td>\n",
       "      <td>891.000000</td>\n",
       "    </tr>\n",
       "    <tr>\n",
       "      <th>mean</th>\n",
       "      <td>0.383838</td>\n",
       "      <td>2.308642</td>\n",
       "      <td>0.523008</td>\n",
       "      <td>0.381594</td>\n",
       "      <td>29.699118</td>\n",
       "      <td>32.204208</td>\n",
       "    </tr>\n",
       "    <tr>\n",
       "      <th>std</th>\n",
       "      <td>0.486592</td>\n",
       "      <td>0.836071</td>\n",
       "      <td>1.102743</td>\n",
       "      <td>0.806057</td>\n",
       "      <td>14.526497</td>\n",
       "      <td>49.693429</td>\n",
       "    </tr>\n",
       "    <tr>\n",
       "      <th>min</th>\n",
       "      <td>0.000000</td>\n",
       "      <td>1.000000</td>\n",
       "      <td>0.000000</td>\n",
       "      <td>0.000000</td>\n",
       "      <td>0.420000</td>\n",
       "      <td>0.000000</td>\n",
       "    </tr>\n",
       "    <tr>\n",
       "      <th>25%</th>\n",
       "      <td>0.000000</td>\n",
       "      <td>2.000000</td>\n",
       "      <td>0.000000</td>\n",
       "      <td>0.000000</td>\n",
       "      <td>20.125000</td>\n",
       "      <td>7.910400</td>\n",
       "    </tr>\n",
       "    <tr>\n",
       "      <th>50%</th>\n",
       "      <td>0.000000</td>\n",
       "      <td>3.000000</td>\n",
       "      <td>0.000000</td>\n",
       "      <td>0.000000</td>\n",
       "      <td>28.000000</td>\n",
       "      <td>14.454200</td>\n",
       "    </tr>\n",
       "    <tr>\n",
       "      <th>75%</th>\n",
       "      <td>1.000000</td>\n",
       "      <td>3.000000</td>\n",
       "      <td>1.000000</td>\n",
       "      <td>0.000000</td>\n",
       "      <td>38.000000</td>\n",
       "      <td>31.000000</td>\n",
       "    </tr>\n",
       "    <tr>\n",
       "      <th>max</th>\n",
       "      <td>1.000000</td>\n",
       "      <td>3.000000</td>\n",
       "      <td>8.000000</td>\n",
       "      <td>6.000000</td>\n",
       "      <td>80.000000</td>\n",
       "      <td>512.329200</td>\n",
       "    </tr>\n",
       "  </tbody>\n",
       "</table>\n",
       "</div>"
      ],
      "text/plain": [
       "         Survived      Pclass       SibSp       Parch         Age        Fare\n",
       "count  891.000000  891.000000  891.000000  891.000000  714.000000  891.000000\n",
       "mean     0.383838    2.308642    0.523008    0.381594   29.699118   32.204208\n",
       "std      0.486592    0.836071    1.102743    0.806057   14.526497   49.693429\n",
       "min      0.000000    1.000000    0.000000    0.000000    0.420000    0.000000\n",
       "25%      0.000000    2.000000    0.000000    0.000000   20.125000    7.910400\n",
       "50%      0.000000    3.000000    0.000000    0.000000   28.000000   14.454200\n",
       "75%      1.000000    3.000000    1.000000    0.000000   38.000000   31.000000\n",
       "max      1.000000    3.000000    8.000000    6.000000   80.000000  512.329200"
      ]
     },
     "execution_count": 152,
     "metadata": {},
     "output_type": "execute_result"
    }
   ],
   "source": [
    "df[[\"Survived\", \"Pclass\", \"SibSp\", \"Parch\", \"Age\", \"Fare\"]].describe()"
   ]
  },
  {
   "cell_type": "markdown",
   "id": "fb641b68-b2b1-44c1-b5e0-41446fd8785b",
   "metadata": {},
   "source": [
    "#### Analizamos datos de tipo numéricos:\n",
    "- El porcentaje de personas que abordaron en primera clase es menor al de las demás.\n",
    "- La mayoría de las personas fueron con almenos 1 cónyuge o hermano a bordo.\n",
    "- Al menos una persona abordó con 8 hermanos o cónyuges.\n",
    "- La edad promedio de las personas fue de 29.6 años, la edad mínima fue de menos de un año y la máxima 80\n",
    "- Personas ingresaron sin abonar, Personas abonaron por el contrario 512 libras"
   ]
  },
  {
   "cell_type": "code",
   "execution_count": 153,
   "id": "aa3044f5-b497-48ff-af6b-0af46c6e8428",
   "metadata": {
    "tags": []
   },
   "outputs": [
    {
     "data": {
      "text/html": [
       "<div>\n",
       "<style scoped>\n",
       "    .dataframe tbody tr th:only-of-type {\n",
       "        vertical-align: middle;\n",
       "    }\n",
       "\n",
       "    .dataframe tbody tr th {\n",
       "        vertical-align: top;\n",
       "    }\n",
       "\n",
       "    .dataframe thead th {\n",
       "        text-align: right;\n",
       "    }\n",
       "</style>\n",
       "<table border=\"1\" class=\"dataframe\">\n",
       "  <thead>\n",
       "    <tr style=\"text-align: right;\">\n",
       "      <th></th>\n",
       "      <th>Name</th>\n",
       "      <th>Sex</th>\n",
       "      <th>Ticket</th>\n",
       "      <th>Cabin</th>\n",
       "      <th>Embarked</th>\n",
       "    </tr>\n",
       "  </thead>\n",
       "  <tbody>\n",
       "    <tr>\n",
       "      <th>count</th>\n",
       "      <td>891</td>\n",
       "      <td>891</td>\n",
       "      <td>891</td>\n",
       "      <td>204</td>\n",
       "      <td>889</td>\n",
       "    </tr>\n",
       "    <tr>\n",
       "      <th>unique</th>\n",
       "      <td>891</td>\n",
       "      <td>2</td>\n",
       "      <td>681</td>\n",
       "      <td>147</td>\n",
       "      <td>3</td>\n",
       "    </tr>\n",
       "    <tr>\n",
       "      <th>top</th>\n",
       "      <td>Braund, Mr. Owen Harris</td>\n",
       "      <td>male</td>\n",
       "      <td>347082</td>\n",
       "      <td>B96 B98</td>\n",
       "      <td>S</td>\n",
       "    </tr>\n",
       "    <tr>\n",
       "      <th>freq</th>\n",
       "      <td>1</td>\n",
       "      <td>577</td>\n",
       "      <td>7</td>\n",
       "      <td>4</td>\n",
       "      <td>644</td>\n",
       "    </tr>\n",
       "  </tbody>\n",
       "</table>\n",
       "</div>"
      ],
      "text/plain": [
       "                           Name   Sex  Ticket    Cabin Embarked\n",
       "count                       891   891     891      204      889\n",
       "unique                      891     2     681      147        3\n",
       "top     Braund, Mr. Owen Harris  male  347082  B96 B98        S\n",
       "freq                          1   577       7        4      644"
      ]
     },
     "execution_count": 153,
     "metadata": {},
     "output_type": "execute_result"
    }
   ],
   "source": [
    "df[[\"Name\", \"Sex\", \"Ticket\", \"Cabin\", \"Embarked\"]].describe()"
   ]
  },
  {
   "cell_type": "markdown",
   "id": "a6eb9a97-b861-4202-978c-66df5b5de25c",
   "metadata": {},
   "source": [
    "#### Analizamos datos no numéricos:\n",
    "- Se encuentran más hombres que mujeres\n",
    "- 577 hombres, 314 mujeres(con una diferencia de 263)\n",
    "- El tiquet 347082 se emitió un total de 7 veces\n",
    "- El puerto de embarque más popular fue el de Southampton, con un total de 644 personas embarcadas"
   ]
  },
  {
   "cell_type": "markdown",
   "id": "aa8d1a5f-8c7f-4003-9917-c4afeac89c47",
   "metadata": {},
   "source": [
    "#### Realizamos un Análisis Estadístico de los datos que consideremos útiles"
   ]
  },
  {
   "cell_type": "code",
   "execution_count": 154,
   "id": "6293a44b-f2d2-4d3d-bb66-db9ef4078cf9",
   "metadata": {
    "tags": []
   },
   "outputs": [
    {
     "data": {
      "text/plain": [
       "29.69911764705882"
      ]
     },
     "execution_count": 154,
     "metadata": {},
     "output_type": "execute_result"
    }
   ],
   "source": [
    "df[\"Age\"].mean()"
   ]
  },
  {
   "cell_type": "code",
   "execution_count": 155,
   "id": "47262edf-7298-48ef-963d-626568c0c5e3",
   "metadata": {
    "tags": []
   },
   "outputs": [
    {
     "data": {
      "text/plain": [
       "0    24.0\n",
       "Name: Age, dtype: float64"
      ]
     },
     "execution_count": 155,
     "metadata": {},
     "output_type": "execute_result"
    }
   ],
   "source": [
    "df[\"Age\"].mode()"
   ]
  },
  {
   "cell_type": "code",
   "execution_count": 156,
   "id": "78a9bbb7-305b-4bd5-b3db-d4776744986b",
   "metadata": {
    "tags": []
   },
   "outputs": [
    {
     "data": {
      "text/plain": [
       "28.0"
      ]
     },
     "execution_count": 156,
     "metadata": {},
     "output_type": "execute_result"
    }
   ],
   "source": [
    "df[\"Age\"].median()"
   ]
  },
  {
   "cell_type": "code",
   "execution_count": 157,
   "id": "b197d714-10d4-4899-bce6-597dd3aab4da",
   "metadata": {
    "tags": []
   },
   "outputs": [
    {
     "data": {
      "text/plain": [
       "14.526497332334044"
      ]
     },
     "execution_count": 157,
     "metadata": {},
     "output_type": "execute_result"
    }
   ],
   "source": [
    "df[\"Age\"].std()"
   ]
  },
  {
   "cell_type": "code",
   "execution_count": 158,
   "id": "0b803f8b-9490-4ffa-a99b-9aaa93340aff",
   "metadata": {
    "tags": []
   },
   "outputs": [
    {
     "data": {
      "text/plain": [
       "80.0"
      ]
     },
     "execution_count": 158,
     "metadata": {},
     "output_type": "execute_result"
    }
   ],
   "source": [
    "df[\"Age\"].max()"
   ]
  },
  {
   "cell_type": "markdown",
   "id": "f701aa61-2302-4a61-98d5-cb24b53c2ceb",
   "metadata": {},
   "source": [
    "- Edad promedio: 29 \n",
    "- Edad Moda: 24 \n",
    "- Edad Mediana: 28 \n",
    "- Edad Desviación estandar: 14.5\n",
    "- Edad Máxima: 80 años"
   ]
  },
  {
   "cell_type": "code",
   "execution_count": 159,
   "id": "8f998df9-5776-4b10-bd68-a6fc4e3b9aa9",
   "metadata": {
    "tags": []
   },
   "outputs": [
    {
     "data": {
      "text/plain": [
       "32.204207968574636"
      ]
     },
     "execution_count": 159,
     "metadata": {},
     "output_type": "execute_result"
    }
   ],
   "source": [
    "df[\"Fare\"].mean()"
   ]
  },
  {
   "cell_type": "code",
   "execution_count": 160,
   "id": "34e7cc1e-6b8a-488a-bacb-82358eb16ac3",
   "metadata": {
    "tags": []
   },
   "outputs": [
    {
     "data": {
      "text/plain": [
       "0    8.05\n",
       "Name: Fare, dtype: float64"
      ]
     },
     "execution_count": 160,
     "metadata": {},
     "output_type": "execute_result"
    }
   ],
   "source": [
    "df[\"Fare\"].mode()"
   ]
  },
  {
   "cell_type": "code",
   "execution_count": 161,
   "id": "0974fa29-904a-4fb9-b9df-917d2c297be1",
   "metadata": {
    "tags": []
   },
   "outputs": [
    {
     "data": {
      "text/plain": [
       "14.4542"
      ]
     },
     "execution_count": 161,
     "metadata": {},
     "output_type": "execute_result"
    }
   ],
   "source": [
    "df[\"Fare\"].median()"
   ]
  },
  {
   "cell_type": "code",
   "execution_count": 162,
   "id": "a12e948b-3cfe-47e5-9a2f-e6ddd78d7e94",
   "metadata": {
    "tags": []
   },
   "outputs": [
    {
     "data": {
      "text/plain": [
       "49.693428597180905"
      ]
     },
     "execution_count": 162,
     "metadata": {},
     "output_type": "execute_result"
    }
   ],
   "source": [
    "df[\"Fare\"].std()"
   ]
  },
  {
   "cell_type": "code",
   "execution_count": 163,
   "id": "30d5f456-da3e-4c8f-a906-7e7c1617f105",
   "metadata": {
    "tags": []
   },
   "outputs": [
    {
     "data": {
      "text/plain": [
       "512.3292"
      ]
     },
     "execution_count": 163,
     "metadata": {},
     "output_type": "execute_result"
    }
   ],
   "source": [
    "df[\"Fare\"].max()"
   ]
  },
  {
   "cell_type": "markdown",
   "id": "0a2a3838-665c-4932-8984-bf16d47eaa51",
   "metadata": {
    "tags": []
   },
   "source": [
    "- Tarifa promedio: 32\n",
    "- Tarifa Moda: 8.05\n",
    "- Tarifa Mediana: 14.4\n",
    "- Tarifa Desviación estandar: 49.7\n",
    "- Tarifa Máxima: 512 "
   ]
  },
  {
   "cell_type": "code",
   "execution_count": null,
   "id": "c9af988d-579b-4b75-a177-ff5656998450",
   "metadata": {},
   "outputs": [],
   "source": []
  },
  {
   "cell_type": "markdown",
   "id": "1f192277-d90d-4925-b6dc-587bbad34052",
   "metadata": {
    "tags": []
   },
   "source": [
    "#### Usamos la función value_counts con cada columna categórica y hacemos un análisis de los valores únicos y sus frecuencias según veamos necesario."
   ]
  },
  {
   "cell_type": "code",
   "execution_count": null,
   "id": "2723af54-03cc-4c32-8272-42d2a2186f5a",
   "metadata": {},
   "outputs": [],
   "source": []
  },
  {
   "cell_type": "code",
   "execution_count": 164,
   "id": "2d384b8a-e6c9-48f9-b5cd-6bff50f80ada",
   "metadata": {
    "tags": []
   },
   "outputs": [
    {
     "data": {
      "text/plain": [
       "Pclass\n",
       "3         491\n",
       "1         216\n",
       "2         184\n",
       "Name: count, dtype: int64"
      ]
     },
     "execution_count": 164,
     "metadata": {},
     "output_type": "execute_result"
    }
   ],
   "source": [
    "df.value_counts([\"Pclass\"])"
   ]
  },
  {
   "cell_type": "markdown",
   "id": "50e843f1-c4d5-4f3e-81cf-326b2e86b835",
   "metadata": {},
   "source": [
    "#### Total de pasajeros por clase:\n",
    "- 3er Clase: 491 pasajeros\n",
    "- 2da Clase: 184 pasajeros\n",
    "- 1ra Clase: 216 pasajeros"
   ]
  },
  {
   "cell_type": "code",
   "execution_count": 165,
   "id": "07e8e939-51b1-4986-b716-9a29de1f84d7",
   "metadata": {
    "tags": []
   },
   "outputs": [
    {
     "data": {
      "text/plain": [
       "Survived\n",
       "0           549\n",
       "1           342\n",
       "Name: count, dtype: int64"
      ]
     },
     "execution_count": 165,
     "metadata": {},
     "output_type": "execute_result"
    }
   ],
   "source": [
    "df.value_counts([\"Survived\"])"
   ]
  },
  {
   "cell_type": "markdown",
   "id": "76106a30-b31c-40ef-b944-1cc967af7633",
   "metadata": {},
   "source": [
    "#### Hubo más fallecidos que sobrevivientes\n",
    "- Fallecidos: 549\n",
    "- Sobrevivientes: 342"
   ]
  },
  {
   "cell_type": "code",
   "execution_count": 166,
   "id": "c9c8980b-749f-407f-93b4-cdfeb29eb928",
   "metadata": {
    "tags": []
   },
   "outputs": [
    {
     "data": {
      "text/plain": [
       "Sex   \n",
       "male      577\n",
       "female    314\n",
       "Name: count, dtype: int64"
      ]
     },
     "execution_count": 166,
     "metadata": {},
     "output_type": "execute_result"
    }
   ],
   "source": [
    "df.value_counts([\"Sex\"])"
   ]
  },
  {
   "cell_type": "markdown",
   "id": "0d197032-15c8-451f-8a37-7566c405c667",
   "metadata": {},
   "source": [
    "#### Encontramos una mayor cantidad de Hombres\n",
    "- Hombres: 577\n",
    "- Mujeres: 314"
   ]
  },
  {
   "cell_type": "code",
   "execution_count": 167,
   "id": "8cde456a-46a3-4585-8278-ffacd03d61f1",
   "metadata": {
    "tags": []
   },
   "outputs": [
    {
     "data": {
      "text/plain": [
       "Age  \n",
       "24.00    30\n",
       "22.00    27\n",
       "18.00    26\n",
       "30.00    25\n",
       "28.00    25\n",
       "         ..\n",
       "20.50     1\n",
       "14.50     1\n",
       "12.00     1\n",
       "0.92      1\n",
       "80.00     1\n",
       "Name: count, Length: 88, dtype: int64"
      ]
     },
     "execution_count": 167,
     "metadata": {},
     "output_type": "execute_result"
    }
   ],
   "source": [
    "df.value_counts([\"Age\"])"
   ]
  },
  {
   "cell_type": "markdown",
   "id": "92e65d91-1623-4144-8c37-5be4eb377eca",
   "metadata": {},
   "source": [
    "#### Se observa un mayor número de pasajeros con la edad de 24 años"
   ]
  },
  {
   "cell_type": "code",
   "execution_count": 168,
   "id": "a1de5e5d-6cbc-4d45-834f-07f3de64f7b1",
   "metadata": {
    "tags": []
   },
   "outputs": [
    {
     "data": {
      "text/plain": [
       "Fare   \n",
       "8.0500     43\n",
       "13.0000    42\n",
       "7.8958     38\n",
       "7.7500     34\n",
       "26.0000    31\n",
       "           ..\n",
       "8.1125      1\n",
       "8.1375      1\n",
       "17.4000     1\n",
       "8.1583      1\n",
       "7.7292      1\n",
       "Name: count, Length: 248, dtype: int64"
      ]
     },
     "execution_count": 168,
     "metadata": {},
     "output_type": "execute_result"
    }
   ],
   "source": [
    "df.value_counts([\"Fare\"])"
   ]
  },
  {
   "cell_type": "code",
   "execution_count": 169,
   "id": "446c324c-8736-45d4-a012-bb3e50972350",
   "metadata": {
    "tags": []
   },
   "outputs": [
    {
     "data": {
      "text/plain": [
       "Embarked\n",
       "S           644\n",
       "C           168\n",
       "Q            77\n",
       "Name: count, dtype: int64"
      ]
     },
     "execution_count": 169,
     "metadata": {},
     "output_type": "execute_result"
    }
   ],
   "source": [
    "df.value_counts([\"Embarked\"])"
   ]
  },
  {
   "cell_type": "markdown",
   "id": "2b03607c-ebc1-4a62-816f-fb42daf7df7e",
   "metadata": {},
   "source": [
    "#### Se embarcó más veces en Southampton\n",
    "- Southampton: 644 embarques\n",
    "- Cherbourg: 168 embarques\n",
    "- Queenstown: 77 embarques"
   ]
  },
  {
   "cell_type": "markdown",
   "id": "d9240a76-73b4-46d8-a2e2-7539a185afcf",
   "metadata": {
    "tags": []
   },
   "source": [
    "## Análizamos relaciones entre Columnas"
   ]
  },
  {
   "cell_type": "code",
   "execution_count": 170,
   "id": "7ccd0783-0899-4e78-8e47-c56ee685ca91",
   "metadata": {
    "tags": []
   },
   "outputs": [
    {
     "data": {
      "text/plain": [
       "Pclass\n",
       "1    136\n",
       "2     87\n",
       "3    119\n",
       "Name: Survived, dtype: int64"
      ]
     },
     "execution_count": 170,
     "metadata": {},
     "output_type": "execute_result"
    }
   ],
   "source": [
    "df.groupby(\"Pclass\")[\"Survived\"].sum()"
   ]
  },
  {
   "cell_type": "markdown",
   "id": "dc20cb40-087e-478e-bd0b-64c7086714cf",
   "metadata": {},
   "source": [
    "#### Sobrevivieron 136 de 1ra clase, 87 de 2da clase y 119 de 3era clase"
   ]
  },
  {
   "cell_type": "code",
   "execution_count": 171,
   "id": "113f2432-98ee-46c0-937f-2e05e37cfd99",
   "metadata": {
    "tags": []
   },
   "outputs": [
    {
     "data": {
      "text/plain": [
       "Sex\n",
       "female    233\n",
       "male      109\n",
       "Name: Survived, dtype: int64"
      ]
     },
     "execution_count": 171,
     "metadata": {},
     "output_type": "execute_result"
    }
   ],
   "source": [
    "df.groupby(\"Sex\")[\"Survived\"].sum()"
   ]
  },
  {
   "cell_type": "markdown",
   "id": "5737727d-4fd9-412c-afd2-56f669262df5",
   "metadata": {},
   "source": [
    "#### Sobrevivieron más mujeres(233) que hombres(109)"
   ]
  },
  {
   "cell_type": "code",
   "execution_count": 172,
   "id": "ea554cdc-64fd-44b2-85d7-6038229e84be",
   "metadata": {
    "tags": []
   },
   "outputs": [
    {
     "data": {
      "text/plain": [
       "Survived  Embarked\n",
       "0         C            75\n",
       "          Q            47\n",
       "          S           427\n",
       "1         C            93\n",
       "          Q            30\n",
       "          S           217\n",
       "Name: Name, dtype: int64"
      ]
     },
     "execution_count": 172,
     "metadata": {},
     "output_type": "execute_result"
    }
   ],
   "source": [
    "df.groupby([\"Survived\", \"Embarked\"]) [\"Name\"].count()"
   ]
  },
  {
   "cell_type": "markdown",
   "id": "7aeef57e-f576-4e33-b9be-1d35c81a950a",
   "metadata": {},
   "source": [
    "#### Sobrevivientes por puertos de embarque\n",
    "- De 644 personas que embarcaron en Southampton: 427 Fallecieron y 217 Sobrevivieron \n",
    "- De 168 personas que embarcaron en Cherbourg: 75 Fallecieron y 93 Sobrevivieron\n",
    "- De 77 personas que embarcaron en Queenstown: 47 Fallecieron y 30 Sobrevivieron"
   ]
  },
  {
   "cell_type": "markdown",
   "id": "da7b3355-903e-4b58-9d88-7b91464114d2",
   "metadata": {},
   "source": [
    "#### Identificamos datos faltantes y Gestionamos una solución al respecto"
   ]
  },
  {
   "cell_type": "code",
   "execution_count": 173,
   "id": "a321d94a-e2bf-4f50-9500-b5fcf96f984a",
   "metadata": {
    "tags": []
   },
   "outputs": [
    {
     "data": {
      "text/html": [
       "<div>\n",
       "<style scoped>\n",
       "    .dataframe tbody tr th:only-of-type {\n",
       "        vertical-align: middle;\n",
       "    }\n",
       "\n",
       "    .dataframe tbody tr th {\n",
       "        vertical-align: top;\n",
       "    }\n",
       "\n",
       "    .dataframe thead th {\n",
       "        text-align: right;\n",
       "    }\n",
       "</style>\n",
       "<table border=\"1\" class=\"dataframe\">\n",
       "  <thead>\n",
       "    <tr style=\"text-align: right;\">\n",
       "      <th></th>\n",
       "      <th>Survived</th>\n",
       "      <th>Pclass</th>\n",
       "      <th>Name</th>\n",
       "      <th>Sex</th>\n",
       "      <th>Age</th>\n",
       "      <th>SibSp</th>\n",
       "      <th>Parch</th>\n",
       "      <th>Ticket</th>\n",
       "      <th>Fare</th>\n",
       "      <th>Cabin</th>\n",
       "      <th>Embarked</th>\n",
       "    </tr>\n",
       "    <tr>\n",
       "      <th>PassengerId</th>\n",
       "      <th></th>\n",
       "      <th></th>\n",
       "      <th></th>\n",
       "      <th></th>\n",
       "      <th></th>\n",
       "      <th></th>\n",
       "      <th></th>\n",
       "      <th></th>\n",
       "      <th></th>\n",
       "      <th></th>\n",
       "      <th></th>\n",
       "    </tr>\n",
       "  </thead>\n",
       "  <tbody>\n",
       "    <tr>\n",
       "      <th>1</th>\n",
       "      <td>False</td>\n",
       "      <td>False</td>\n",
       "      <td>False</td>\n",
       "      <td>False</td>\n",
       "      <td>False</td>\n",
       "      <td>False</td>\n",
       "      <td>False</td>\n",
       "      <td>False</td>\n",
       "      <td>False</td>\n",
       "      <td>True</td>\n",
       "      <td>False</td>\n",
       "    </tr>\n",
       "    <tr>\n",
       "      <th>2</th>\n",
       "      <td>False</td>\n",
       "      <td>False</td>\n",
       "      <td>False</td>\n",
       "      <td>False</td>\n",
       "      <td>False</td>\n",
       "      <td>False</td>\n",
       "      <td>False</td>\n",
       "      <td>False</td>\n",
       "      <td>False</td>\n",
       "      <td>False</td>\n",
       "      <td>False</td>\n",
       "    </tr>\n",
       "    <tr>\n",
       "      <th>3</th>\n",
       "      <td>False</td>\n",
       "      <td>False</td>\n",
       "      <td>False</td>\n",
       "      <td>False</td>\n",
       "      <td>False</td>\n",
       "      <td>False</td>\n",
       "      <td>False</td>\n",
       "      <td>False</td>\n",
       "      <td>False</td>\n",
       "      <td>True</td>\n",
       "      <td>False</td>\n",
       "    </tr>\n",
       "    <tr>\n",
       "      <th>4</th>\n",
       "      <td>False</td>\n",
       "      <td>False</td>\n",
       "      <td>False</td>\n",
       "      <td>False</td>\n",
       "      <td>False</td>\n",
       "      <td>False</td>\n",
       "      <td>False</td>\n",
       "      <td>False</td>\n",
       "      <td>False</td>\n",
       "      <td>False</td>\n",
       "      <td>False</td>\n",
       "    </tr>\n",
       "    <tr>\n",
       "      <th>5</th>\n",
       "      <td>False</td>\n",
       "      <td>False</td>\n",
       "      <td>False</td>\n",
       "      <td>False</td>\n",
       "      <td>False</td>\n",
       "      <td>False</td>\n",
       "      <td>False</td>\n",
       "      <td>False</td>\n",
       "      <td>False</td>\n",
       "      <td>True</td>\n",
       "      <td>False</td>\n",
       "    </tr>\n",
       "    <tr>\n",
       "      <th>...</th>\n",
       "      <td>...</td>\n",
       "      <td>...</td>\n",
       "      <td>...</td>\n",
       "      <td>...</td>\n",
       "      <td>...</td>\n",
       "      <td>...</td>\n",
       "      <td>...</td>\n",
       "      <td>...</td>\n",
       "      <td>...</td>\n",
       "      <td>...</td>\n",
       "      <td>...</td>\n",
       "    </tr>\n",
       "    <tr>\n",
       "      <th>887</th>\n",
       "      <td>False</td>\n",
       "      <td>False</td>\n",
       "      <td>False</td>\n",
       "      <td>False</td>\n",
       "      <td>False</td>\n",
       "      <td>False</td>\n",
       "      <td>False</td>\n",
       "      <td>False</td>\n",
       "      <td>False</td>\n",
       "      <td>True</td>\n",
       "      <td>False</td>\n",
       "    </tr>\n",
       "    <tr>\n",
       "      <th>888</th>\n",
       "      <td>False</td>\n",
       "      <td>False</td>\n",
       "      <td>False</td>\n",
       "      <td>False</td>\n",
       "      <td>False</td>\n",
       "      <td>False</td>\n",
       "      <td>False</td>\n",
       "      <td>False</td>\n",
       "      <td>False</td>\n",
       "      <td>False</td>\n",
       "      <td>False</td>\n",
       "    </tr>\n",
       "    <tr>\n",
       "      <th>889</th>\n",
       "      <td>False</td>\n",
       "      <td>False</td>\n",
       "      <td>False</td>\n",
       "      <td>False</td>\n",
       "      <td>True</td>\n",
       "      <td>False</td>\n",
       "      <td>False</td>\n",
       "      <td>False</td>\n",
       "      <td>False</td>\n",
       "      <td>True</td>\n",
       "      <td>False</td>\n",
       "    </tr>\n",
       "    <tr>\n",
       "      <th>890</th>\n",
       "      <td>False</td>\n",
       "      <td>False</td>\n",
       "      <td>False</td>\n",
       "      <td>False</td>\n",
       "      <td>False</td>\n",
       "      <td>False</td>\n",
       "      <td>False</td>\n",
       "      <td>False</td>\n",
       "      <td>False</td>\n",
       "      <td>False</td>\n",
       "      <td>False</td>\n",
       "    </tr>\n",
       "    <tr>\n",
       "      <th>891</th>\n",
       "      <td>False</td>\n",
       "      <td>False</td>\n",
       "      <td>False</td>\n",
       "      <td>False</td>\n",
       "      <td>False</td>\n",
       "      <td>False</td>\n",
       "      <td>False</td>\n",
       "      <td>False</td>\n",
       "      <td>False</td>\n",
       "      <td>True</td>\n",
       "      <td>False</td>\n",
       "    </tr>\n",
       "  </tbody>\n",
       "</table>\n",
       "<p>891 rows × 11 columns</p>\n",
       "</div>"
      ],
      "text/plain": [
       "             Survived  Pclass   Name    Sex    Age  SibSp  Parch  Ticket  \\\n",
       "PassengerId                                                                \n",
       "1               False   False  False  False  False  False  False   False   \n",
       "2               False   False  False  False  False  False  False   False   \n",
       "3               False   False  False  False  False  False  False   False   \n",
       "4               False   False  False  False  False  False  False   False   \n",
       "5               False   False  False  False  False  False  False   False   \n",
       "...               ...     ...    ...    ...    ...    ...    ...     ...   \n",
       "887             False   False  False  False  False  False  False   False   \n",
       "888             False   False  False  False  False  False  False   False   \n",
       "889             False   False  False  False   True  False  False   False   \n",
       "890             False   False  False  False  False  False  False   False   \n",
       "891             False   False  False  False  False  False  False   False   \n",
       "\n",
       "              Fare  Cabin  Embarked  \n",
       "PassengerId                          \n",
       "1            False   True     False  \n",
       "2            False  False     False  \n",
       "3            False   True     False  \n",
       "4            False  False     False  \n",
       "5            False   True     False  \n",
       "...            ...    ...       ...  \n",
       "887          False   True     False  \n",
       "888          False  False     False  \n",
       "889          False   True     False  \n",
       "890          False  False     False  \n",
       "891          False   True     False  \n",
       "\n",
       "[891 rows x 11 columns]"
      ]
     },
     "execution_count": 173,
     "metadata": {},
     "output_type": "execute_result"
    }
   ],
   "source": [
    "df.isna()"
   ]
  },
  {
   "cell_type": "code",
   "execution_count": 174,
   "id": "745759c9-2e9d-4684-b0c4-126449207c1a",
   "metadata": {
    "tags": []
   },
   "outputs": [],
   "source": [
    "df.drop( columns = \"Cabin\", inplace = True)"
   ]
  },
  {
   "cell_type": "code",
   "execution_count": 175,
   "id": "ed6a50f1-07c8-4016-808a-58bfdd462630",
   "metadata": {
    "tags": []
   },
   "outputs": [
    {
     "name": "stdout",
     "output_type": "stream",
     "text": [
      "<class 'pandas.core.frame.DataFrame'>\n",
      "Index: 891 entries, 1 to 891\n",
      "Data columns (total 10 columns):\n",
      " #   Column    Non-Null Count  Dtype  \n",
      "---  ------    --------------  -----  \n",
      " 0   Survived  891 non-null    int64  \n",
      " 1   Pclass    891 non-null    int64  \n",
      " 2   Name      891 non-null    object \n",
      " 3   Sex       891 non-null    object \n",
      " 4   Age       714 non-null    float64\n",
      " 5   SibSp     891 non-null    int64  \n",
      " 6   Parch     891 non-null    int64  \n",
      " 7   Ticket    891 non-null    object \n",
      " 8   Fare      891 non-null    float64\n",
      " 9   Embarked  889 non-null    object \n",
      "dtypes: float64(2), int64(4), object(4)\n",
      "memory usage: 76.6+ KB\n"
     ]
    }
   ],
   "source": [
    "df.info()"
   ]
  },
  {
   "cell_type": "markdown",
   "id": "3051e635-8518-42f0-9817-d3c39ab5674d",
   "metadata": {},
   "source": [
    "#### ELiminamos la columna \"Cabin\" debido a que estaba compuesta en su mayoría por registros nulos"
   ]
  },
  {
   "cell_type": "code",
   "execution_count": 176,
   "id": "ad207c08-a3db-4876-be79-65c3269b953d",
   "metadata": {
    "tags": []
   },
   "outputs": [
    {
     "data": {
      "text/html": [
       "<div>\n",
       "<style scoped>\n",
       "    .dataframe tbody tr th:only-of-type {\n",
       "        vertical-align: middle;\n",
       "    }\n",
       "\n",
       "    .dataframe tbody tr th {\n",
       "        vertical-align: top;\n",
       "    }\n",
       "\n",
       "    .dataframe thead th {\n",
       "        text-align: right;\n",
       "    }\n",
       "</style>\n",
       "<table border=\"1\" class=\"dataframe\">\n",
       "  <thead>\n",
       "    <tr style=\"text-align: right;\">\n",
       "      <th></th>\n",
       "      <th>Survived</th>\n",
       "      <th>Pclass</th>\n",
       "      <th>Name</th>\n",
       "      <th>Sex</th>\n",
       "      <th>Age</th>\n",
       "      <th>SibSp</th>\n",
       "      <th>Parch</th>\n",
       "      <th>Ticket</th>\n",
       "      <th>Fare</th>\n",
       "      <th>Embarked</th>\n",
       "    </tr>\n",
       "    <tr>\n",
       "      <th>PassengerId</th>\n",
       "      <th></th>\n",
       "      <th></th>\n",
       "      <th></th>\n",
       "      <th></th>\n",
       "      <th></th>\n",
       "      <th></th>\n",
       "      <th></th>\n",
       "      <th></th>\n",
       "      <th></th>\n",
       "      <th></th>\n",
       "    </tr>\n",
       "  </thead>\n",
       "  <tbody>\n",
       "    <tr>\n",
       "      <th>1</th>\n",
       "      <td>False</td>\n",
       "      <td>False</td>\n",
       "      <td>False</td>\n",
       "      <td>False</td>\n",
       "      <td>False</td>\n",
       "      <td>False</td>\n",
       "      <td>False</td>\n",
       "      <td>False</td>\n",
       "      <td>False</td>\n",
       "      <td>False</td>\n",
       "    </tr>\n",
       "    <tr>\n",
       "      <th>2</th>\n",
       "      <td>False</td>\n",
       "      <td>False</td>\n",
       "      <td>False</td>\n",
       "      <td>False</td>\n",
       "      <td>False</td>\n",
       "      <td>False</td>\n",
       "      <td>False</td>\n",
       "      <td>False</td>\n",
       "      <td>False</td>\n",
       "      <td>False</td>\n",
       "    </tr>\n",
       "    <tr>\n",
       "      <th>3</th>\n",
       "      <td>False</td>\n",
       "      <td>False</td>\n",
       "      <td>False</td>\n",
       "      <td>False</td>\n",
       "      <td>False</td>\n",
       "      <td>False</td>\n",
       "      <td>False</td>\n",
       "      <td>False</td>\n",
       "      <td>False</td>\n",
       "      <td>False</td>\n",
       "    </tr>\n",
       "    <tr>\n",
       "      <th>4</th>\n",
       "      <td>False</td>\n",
       "      <td>False</td>\n",
       "      <td>False</td>\n",
       "      <td>False</td>\n",
       "      <td>False</td>\n",
       "      <td>False</td>\n",
       "      <td>False</td>\n",
       "      <td>False</td>\n",
       "      <td>False</td>\n",
       "      <td>False</td>\n",
       "    </tr>\n",
       "    <tr>\n",
       "      <th>5</th>\n",
       "      <td>False</td>\n",
       "      <td>False</td>\n",
       "      <td>False</td>\n",
       "      <td>False</td>\n",
       "      <td>False</td>\n",
       "      <td>False</td>\n",
       "      <td>False</td>\n",
       "      <td>False</td>\n",
       "      <td>False</td>\n",
       "      <td>False</td>\n",
       "    </tr>\n",
       "    <tr>\n",
       "      <th>...</th>\n",
       "      <td>...</td>\n",
       "      <td>...</td>\n",
       "      <td>...</td>\n",
       "      <td>...</td>\n",
       "      <td>...</td>\n",
       "      <td>...</td>\n",
       "      <td>...</td>\n",
       "      <td>...</td>\n",
       "      <td>...</td>\n",
       "      <td>...</td>\n",
       "    </tr>\n",
       "    <tr>\n",
       "      <th>887</th>\n",
       "      <td>False</td>\n",
       "      <td>False</td>\n",
       "      <td>False</td>\n",
       "      <td>False</td>\n",
       "      <td>False</td>\n",
       "      <td>False</td>\n",
       "      <td>False</td>\n",
       "      <td>False</td>\n",
       "      <td>False</td>\n",
       "      <td>False</td>\n",
       "    </tr>\n",
       "    <tr>\n",
       "      <th>888</th>\n",
       "      <td>False</td>\n",
       "      <td>False</td>\n",
       "      <td>False</td>\n",
       "      <td>False</td>\n",
       "      <td>False</td>\n",
       "      <td>False</td>\n",
       "      <td>False</td>\n",
       "      <td>False</td>\n",
       "      <td>False</td>\n",
       "      <td>False</td>\n",
       "    </tr>\n",
       "    <tr>\n",
       "      <th>889</th>\n",
       "      <td>False</td>\n",
       "      <td>False</td>\n",
       "      <td>False</td>\n",
       "      <td>False</td>\n",
       "      <td>False</td>\n",
       "      <td>False</td>\n",
       "      <td>False</td>\n",
       "      <td>False</td>\n",
       "      <td>False</td>\n",
       "      <td>False</td>\n",
       "    </tr>\n",
       "    <tr>\n",
       "      <th>890</th>\n",
       "      <td>False</td>\n",
       "      <td>False</td>\n",
       "      <td>False</td>\n",
       "      <td>False</td>\n",
       "      <td>False</td>\n",
       "      <td>False</td>\n",
       "      <td>False</td>\n",
       "      <td>False</td>\n",
       "      <td>False</td>\n",
       "      <td>False</td>\n",
       "    </tr>\n",
       "    <tr>\n",
       "      <th>891</th>\n",
       "      <td>False</td>\n",
       "      <td>False</td>\n",
       "      <td>False</td>\n",
       "      <td>False</td>\n",
       "      <td>False</td>\n",
       "      <td>False</td>\n",
       "      <td>False</td>\n",
       "      <td>False</td>\n",
       "      <td>False</td>\n",
       "      <td>False</td>\n",
       "    </tr>\n",
       "  </tbody>\n",
       "</table>\n",
       "<p>891 rows × 10 columns</p>\n",
       "</div>"
      ],
      "text/plain": [
       "             Survived  Pclass   Name    Sex    Age  SibSp  Parch  Ticket  \\\n",
       "PassengerId                                                                \n",
       "1               False   False  False  False  False  False  False   False   \n",
       "2               False   False  False  False  False  False  False   False   \n",
       "3               False   False  False  False  False  False  False   False   \n",
       "4               False   False  False  False  False  False  False   False   \n",
       "5               False   False  False  False  False  False  False   False   \n",
       "...               ...     ...    ...    ...    ...    ...    ...     ...   \n",
       "887             False   False  False  False  False  False  False   False   \n",
       "888             False   False  False  False  False  False  False   False   \n",
       "889             False   False  False  False  False  False  False   False   \n",
       "890             False   False  False  False  False  False  False   False   \n",
       "891             False   False  False  False  False  False  False   False   \n",
       "\n",
       "              Fare  Embarked  \n",
       "PassengerId                   \n",
       "1            False     False  \n",
       "2            False     False  \n",
       "3            False     False  \n",
       "4            False     False  \n",
       "5            False     False  \n",
       "...            ...       ...  \n",
       "887          False     False  \n",
       "888          False     False  \n",
       "889          False     False  \n",
       "890          False     False  \n",
       "891          False     False  \n",
       "\n",
       "[891 rows x 10 columns]"
      ]
     },
     "execution_count": 176,
     "metadata": {},
     "output_type": "execute_result"
    }
   ],
   "source": [
    "df['Age'] = df['Age'].fillna(df['Age'].median())\n",
    "\n",
    "df.isna()"
   ]
  },
  {
   "cell_type": "markdown",
   "id": "a9eeacfc-0490-48ec-b2e4-c519e04c85f4",
   "metadata": {},
   "source": [
    "#### Los valores nulos faltantes, se encontraban en las edades de algunos pasajeros, en este caso resolvimos transformando esos valores faltantes en el promedio de las edades, ya que este accionar modifica lo menos posible los cálculos realizados con los demás datos, pero no es el unico accionar posible"
   ]
  },
  {
   "cell_type": "code",
   "execution_count": null,
   "id": "70763d98-3626-40d9-bf46-341c6ddb60a3",
   "metadata": {},
   "outputs": [],
   "source": []
  },
  {
   "cell_type": "markdown",
   "id": "08738b34-eb67-4f1b-b0b1-37e69b401998",
   "metadata": {
    "tags": []
   },
   "source": [
    "## Mediante Diferentes Gráficos analizaremos relaciones entre valores y datos que nos aporten información útil"
   ]
  },
  {
   "cell_type": "markdown",
   "id": "74d08084-12ca-4dcb-88c5-2e413583a623",
   "metadata": {},
   "source": [
    "### Gráfico de barras\n",
    "\n",
    "Es una forma de representar gráficamente un conjunto de datos mediante barras rectangulares de longitud proporcional a los valores representados. Los gráficos de barras pueden ser usados para comparar cantidades de una variable. Las barras pueden orientarse horizontal y verticalmente.\n"
   ]
  },
  {
   "cell_type": "code",
   "execution_count": 177,
   "id": "71d0fdf8-d111-4712-81ed-e60d22f5d9c7",
   "metadata": {
    "tags": []
   },
   "outputs": [
    {
     "data": {
      "text/plain": [
       "<Axes: xlabel='Pclass', ylabel='Survived'>"
      ]
     },
     "execution_count": 177,
     "metadata": {},
     "output_type": "execute_result"
    },
    {
     "data": {
      "image/png": "[encoded data removed]",
      "text/plain": [
       "<Figure size 640x480 with 1 Axes>"
      ]
     },
     "metadata": {},
     "output_type": "display_data"
    }
   ],
   "source": [
    "# Total de sobrevivientes por clase\n",
    "sns.barplot(x= \"Pclass\", y = \"Survived\", estimator = np.sum, data= df)"
   ]
  },
  {
   "cell_type": "code",
   "execution_count": 178,
   "id": "b4658bf5-13ce-4b17-a4ce-5d2303b7f855",
   "metadata": {
    "tags": []
   },
   "outputs": [
    {
     "data": {
      "text/plain": [
       "<Axes: xlabel='Pclass', ylabel='Survived'>"
      ]
     },
     "execution_count": 178,
     "metadata": {},
     "output_type": "execute_result"
    },
    {
     "data": {
      "image/png": "[encoded data removed]",
      "text/plain": [
       "<Figure size 640x480 with 1 Axes>"
      ]
     },
     "metadata": {},
     "output_type": "display_data"
    }
   ],
   "source": [
    "# Promedio de sobrevivientes por clase\n",
    "sns.barplot(x= \"Pclass\", y = \"Survived\", estimator = np.mean, data= df)"
   ]
  },
  {
   "cell_type": "code",
   "execution_count": 179,
   "id": "06d70af9-d631-47a4-b19f-16c482f08f6a",
   "metadata": {
    "tags": []
   },
   "outputs": [
    {
     "data": {
      "text/plain": [
       "<Axes: xlabel='Pclass', ylabel='Survived'>"
      ]
     },
     "execution_count": 179,
     "metadata": {},
     "output_type": "execute_result"
    },
    {
     "data": {
      "image/png": "[encoded data removed]",
      "text/plain": [
       "<Figure size 640x480 with 1 Axes>"
      ]
     },
     "metadata": {},
     "output_type": "display_data"
    }
   ],
   "source": [
    "# Promedio de sobrevivientes por clase\n",
    "# Discriminando por sexo\n",
    "sns.barplot(x= \"Pclass\", y = \"Survived\", hue = \"Sex\" , estimator = np.mean, data= df)"
   ]
  },
  {
   "cell_type": "markdown",
   "id": "f4a4af70-a189-47ea-a459-67260cf360e0",
   "metadata": {},
   "source": [
    "### Histograma\n",
    "\n",
    "Es una representación gráfica de una variable en forma de barras, donde la superficie de cada barra es proporcional a la frecuencia de los valores representados. Sirven para obtener una \"primera vista\" general de la distribución de la variable."
   ]
  },
  {
   "cell_type": "code",
   "execution_count": 180,
   "id": "b69ff6f0-1c69-45ec-9b22-02309a093ffb",
   "metadata": {
    "tags": []
   },
   "outputs": [
    {
     "data": {
      "text/plain": [
       "<seaborn.axisgrid.FacetGrid at 0x12891ca1350>"
      ]
     },
     "execution_count": 180,
     "metadata": {},
     "output_type": "execute_result"
    },
    {
     "data": {
      "image/png": "[encoded data removed]",
      "text/plain": [
       "<Figure size 500x500 with 1 Axes>"
      ]
     },
     "metadata": {},
     "output_type": "display_data"
    }
   ],
   "source": [
    "# Distribucion de la edad de los pasajeros\n",
    "sns.displot(df[\"Age\"], kde = False)"
   ]
  },
  {
   "cell_type": "code",
   "execution_count": 181,
   "id": "8ec47663-0193-4ea5-bc78-847e99424588",
   "metadata": {
    "tags": []
   },
   "outputs": [
    {
     "data": {
      "text/plain": [
       "<seaborn.axisgrid.FacetGrid at 0x12891b536d0>"
      ]
     },
     "execution_count": 181,
     "metadata": {},
     "output_type": "execute_result"
    },
    {
     "data": {
      "image/png": "[encoded data removed]",
      "text/plain": [
       "<Figure size 500x500 with 1 Axes>"
      ]
     },
     "metadata": {},
     "output_type": "display_data"
    }
   ],
   "source": [
    "# Distribucion de la edad de los pasajeros\n",
    "# Agrupando edades de a 10\n",
    "sns.displot(df[\"Age\"], bins = 10, kde = False)"
   ]
  },
  {
   "cell_type": "markdown",
   "id": "ded056e0-dbc5-4179-bcff-d258b16116ea",
   "metadata": {},
   "source": [
    "### Diagrama de densidad\n",
    "\n",
    "Este gráfico es una variación de un Histograma que usa el suavizado de cerner para trazar valores, permitiendo distribuciones más suaves al suavizar el ruido."
   ]
  },
  {
   "cell_type": "code",
   "execution_count": 182,
   "id": "2b7e665d-cf35-4e3e-b182-61266b5927c5",
   "metadata": {
    "tags": []
   },
   "outputs": [
    {
     "data": {
      "text/plain": [
       "<Axes: xlabel='Age', ylabel='Density'>"
      ]
     },
     "execution_count": 182,
     "metadata": {},
     "output_type": "execute_result"
    },
    {
     "data": {
      "image/png": "[encoded data removed]",
      "text/plain": [
       "<Figure size 640x480 with 1 Axes>"
      ]
     },
     "metadata": {},
     "output_type": "display_data"
    }
   ],
   "source": [
    "# Distribucion de la edad de los pasajeros\n",
    "sns.kdeplot(df[\"Age\"])"
   ]
  },
  {
   "cell_type": "code",
   "execution_count": 183,
   "id": "889b186e-d2d6-4aa1-9bea-7257c881be8a",
   "metadata": {
    "tags": []
   },
   "outputs": [
    {
     "data": {
      "text/plain": [
       "<Axes: xlabel='Age', ylabel='Density'>"
      ]
     },
     "execution_count": 183,
     "metadata": {},
     "output_type": "execute_result"
    },
    {
     "data": {
      "image/png": "[encoded data removed]",
      "text/plain": [
       "<Figure size 640x480 with 1 Axes>"
      ]
     },
     "metadata": {},
     "output_type": "display_data"
    }
   ],
   "source": [
    "sns.kdeplot(df[\"Age\"], fill=True)"
   ]
  },
  {
   "cell_type": "markdown",
   "id": "c88ea219-6dcd-4b95-b075-145469d6eb6e",
   "metadata": {},
   "source": [
    "### Diagrama de Dispersión\n",
    "\n",
    "Permite ver la relación entre dos variables. Un diagrama de dispersión puede sugerir varios tipos de correlaciones entre las variables con un intervalo de confianza determinado. \n",
    "\n",
    "Se aplica con variables continuas. "
   ]
  },
  {
   "cell_type": "code",
   "execution_count": 184,
   "id": "b25b27d5-4d9b-4cd5-85d6-977e6d21790a",
   "metadata": {
    "tags": []
   },
   "outputs": [
    {
     "data": {
      "text/plain": [
       "<seaborn.axisgrid.FacetGrid at 0x12892d633d0>"
      ]
     },
     "execution_count": 184,
     "metadata": {},
     "output_type": "execute_result"
    },
    {
     "data": {
      "image/png": "[encoded data removed]",
      "text/plain": [
       "<Figure size 500x500 with 1 Axes>"
      ]
     },
     "metadata": {},
     "output_type": "display_data"
    }
   ],
   "source": [
    "# Relacion entre la variable age y fare\n",
    "sns.lmplot(x=\"Age\", y=\"Fare\", data=df)"
   ]
  },
  {
   "cell_type": "markdown",
   "id": "c7678f0b-37a8-4e31-8993-2ba04f5170b9",
   "metadata": {},
   "source": [
    "### Boxplot\n",
    "\n",
    "Un diagrama de caja es un método estandarizado para representar gráficamente una serie de datos numéricos a través de sus cuartiles. De esta manera, se muestran a simple vista la mediana y los cuartiles de los datos, y también pueden representarse sus valores atípicos."
   ]
  },
  {
   "cell_type": "code",
   "execution_count": 185,
   "id": "a4ad87cc-22ba-488b-827d-22e54258ca6b",
   "metadata": {
    "tags": []
   },
   "outputs": [
    {
     "data": {
      "text/plain": [
       "<Axes: ylabel='Age'>"
      ]
     },
     "execution_count": 185,
     "metadata": {},
     "output_type": "execute_result"
    },
    {
     "data": {
      "image/png": "[encoded data removed]",
      "text/plain": [
       "<Figure size 640x480 with 1 Axes>"
      ]
     },
     "metadata": {},
     "output_type": "display_data"
    }
   ],
   "source": [
    "# Boxplot Age\n",
    "sns.boxplot(y = \"Age\", orient=\"v\", data = df)"
   ]
  },
  {
   "cell_type": "code",
   "execution_count": 186,
   "id": "4c1717b0-fcbd-4c89-8cff-5d2fb2c994bc",
   "metadata": {
    "tags": []
   },
   "outputs": [
    {
     "data": {
      "text/plain": [
       "<Axes: xlabel='Pclass', ylabel='Fare'>"
      ]
     },
     "execution_count": 186,
     "metadata": {},
     "output_type": "execute_result"
    },
    {
     "data": {
      "image/png": "[encoded data removed]",
      "text/plain": [
       "<Figure size 640x480 with 1 Axes>"
      ]
     },
     "metadata": {},
     "output_type": "display_data"
    }
   ],
   "source": [
    "# Boxplot Fare por clase\n",
    "# Eliminamos valor super atipico para mejorar la visualizacion\n",
    "sns.boxplot(x = \"Pclass\", y = \"Fare\", orient=\"v\", data = df[df[\"Fare\"]< 300])"
   ]
  },
  {
   "cell_type": "code",
   "execution_count": 187,
   "id": "e8524781-0774-4d2d-97ae-57668a2967c2",
   "metadata": {
    "tags": []
   },
   "outputs": [
    {
     "data": {
      "text/plain": [
       "<Axes: xlabel='Pclass', ylabel='Fare'>"
      ]
     },
     "execution_count": 187,
     "metadata": {},
     "output_type": "execute_result"
    },
    {
     "data": {
      "image/png": "[encoded data removed]",
      "text/plain": [
       "<Figure size 640x480 with 1 Axes>"
      ]
     },
     "metadata": {},
     "output_type": "display_data"
    }
   ],
   "source": [
    "# Boxplot Fare por clase\n",
    "# Eliminamos valor super atipico para mejorar la visualizacion\n",
    "# Discriminando por sexo\n",
    "sns.boxplot(x = \"Pclass\", y = \"Fare\", orient=\"v\", hue = \"Sex\",\n",
    "            data = df[df[\"Fare\"]< 300])"
   ]
  },
  {
   "cell_type": "markdown",
   "id": "75475b8f-7d82-4e4d-8f1c-06081f2e23ec",
   "metadata": {},
   "source": [
    "### Violin\n",
    "\n",
    "Es similar a un diagrama de caja, con la adición de un diagrama de densidad de grano rotado en cada lado."
   ]
  },
  {
   "cell_type": "code",
   "execution_count": 188,
   "id": "b1b25e26-7969-464c-aa64-a5ee755834c4",
   "metadata": {
    "tags": []
   },
   "outputs": [
    {
     "data": {
      "text/plain": [
       "<Axes: xlabel='Pclass', ylabel='Fare'>"
      ]
     },
     "execution_count": 188,
     "metadata": {},
     "output_type": "execute_result"
    },
    {
     "data": {
      "image/png": "[encoded data removed]",
      "text/plain": [
       "<Figure size 640x480 with 1 Axes>"
      ]
     },
     "metadata": {},
     "output_type": "display_data"
    }
   ],
   "source": [
    "# Violin Fare por clase\n",
    "# Eliminamos valor atipico para mejorar la visualizacion\n",
    "# Discriminando por sexo\n",
    "sns.violinplot(x = \"Pclass\", y = \"Fare\", orient=\"v\", hue = \"Sex\",\n",
    "            data = df[df[\"Fare\"]< 200])"
   ]
  },
  {
   "cell_type": "code",
   "execution_count": null,
   "id": "3428c5d6-8ca1-4a0a-b108-f74a693cbe71",
   "metadata": {},
   "outputs": [],
   "source": []
  },
  {
   "cell_type": "code",
   "execution_count": null,
   "id": "504c9421-2d8a-47f8-8bb2-ed98607004f4",
   "metadata": {},
   "outputs": [],
   "source": []
  },
  {
   "cell_type": "code",
   "execution_count": null,
   "id": "8dbbe21a-fefb-4232-97b1-1c0ffb13d76f",
   "metadata": {},
   "outputs": [],
   "source": []
  },
  {
   "cell_type": "code",
   "execution_count": null,
   "id": "cc58a0cb-b5fa-4304-93e5-5e5bb3526744",
   "metadata": {},
   "outputs": [],
   "source": []
  },
  {
   "cell_type": "code",
   "execution_count": null,
   "id": "78d77b56-c34a-4c51-9e8f-a0f94024d80f",
   "metadata": {},
   "outputs": [],
   "source": []
  }
 ],
 "metadata": {
  "kernelspec": {
   "display_name": "Python 3 (ipykernel)",
   "language": "python",
   "name": "python3"
  },
  "language_info": {
   "codemirror_mode": {
    "name": "ipython",
    "version": 3
   },
   "file_extension": ".py",
   "mimetype": "text/x-python",
   "name": "python",
   "nbconvert_exporter": "python",
   "pygments_lexer": "ipython3",
   "version": "3.11.5"
  }
 },
 "nbformat": 4,
 "nbformat_minor": 5
}
